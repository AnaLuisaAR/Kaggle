{
 "cells": [
  {
   "cell_type": "code",
   "execution_count": null,
   "id": "e849e6d3",
   "metadata": {},
   "outputs": [],
   "source": [
    "%%capture\n",
    "!pip install keras==2.6.0\n",
    "!pip install tensorflow==2.3.0\n",
    "#!pip install tensorflow-gpu==2.3.0"
   ]
  },
  {
   "cell_type": "code",
   "execution_count": 1,
   "id": "5df38d5e",
   "metadata": {},
   "outputs": [
    {
     "data": {
      "text/html": [
       "<style>.container { width:85% !important; }</style>"
      ],
      "text/plain": [
       "<IPython.core.display.HTML object>"
      ]
     },
     "metadata": {},
     "output_type": "display_data"
    }
   ],
   "source": [
    "from IPython.core.display import display, HTML\n",
    "display(HTML(\"<style>.container { width:85% !important; }</style>\"))"
   ]
  },
  {
   "cell_type": "markdown",
   "id": "f9e30376",
   "metadata": {},
   "source": [
    "## Pegando as bases"
   ]
  },
  {
   "cell_type": "code",
   "execution_count": 2,
   "id": "d721f2e4",
   "metadata": {},
   "outputs": [],
   "source": [
    "from subprocess import call\n",
    "import pandas as pd\n",
    "import tensorflow as tf\n",
    "import sklearn.preprocessing as pp\n",
    "from sklearn.model_selection import train_test_split\n",
    "import matplotlib.pyplot as plt\n",
    "import numpy as np"
   ]
  },
  {
   "cell_type": "code",
   "execution_count": null,
   "id": "5512ecd4",
   "metadata": {},
   "outputs": [],
   "source": [
    "print(tf.config.list_physical_devices())"
   ]
  },
  {
   "cell_type": "code",
   "execution_count": null,
   "id": "d9dcc53e",
   "metadata": {},
   "outputs": [],
   "source": [
    "print(tf.__version__)"
   ]
  },
  {
   "cell_type": "code",
   "execution_count": null,
   "id": "8dab9d1b",
   "metadata": {},
   "outputs": [],
   "source": [
    "gcs_folder_path = 'gs://analytics-labs/introduction_to_ann/datasets/'"
   ]
  },
  {
   "cell_type": "code",
   "execution_count": null,
   "id": "c26780d5",
   "metadata": {},
   "outputs": [],
   "source": [
    "call(['gsutil', '-m', 'cp', gcs_folder_path + 'train.parquet','.'])\n",
    "call(['gsutil', '-m', 'cp', gcs_folder_path + 'test.parquet','.'])"
   ]
  },
  {
   "cell_type": "code",
   "execution_count": null,
   "id": "c638fa19",
   "metadata": {},
   "outputs": [],
   "source": [
    "datatypes = {'key': 'str', \n",
    "              'fare_amount': 'float32',\n",
    "              'pickup_datetime': 'str', \n",
    "              'pickup_longitude': 'float32',\n",
    "              'pickup_latitude': 'float32',\n",
    "              'dropoff_longitude': 'float32',\n",
    "              'dropoff_latitude': 'float32',\n",
    "              'passenger_count': 'uint8'}"
   ]
  },
  {
   "cell_type": "code",
   "execution_count": 3,
   "id": "a276f49d",
   "metadata": {},
   "outputs": [],
   "source": [
    "train = pd.read_parquet('train.parquet').sample(frac=0.1)"
   ]
  },
  {
   "cell_type": "code",
   "execution_count": null,
   "id": "bb527251",
   "metadata": {},
   "outputs": [],
   "source": [
    "train = train.astype(dtype = datatypes)"
   ]
  },
  {
   "cell_type": "code",
   "execution_count": null,
   "id": "0b4dc33e",
   "metadata": {},
   "outputs": [],
   "source": [
    "len(train)"
   ]
  },
  {
   "cell_type": "code",
   "execution_count": 4,
   "id": "b1aca684",
   "metadata": {},
   "outputs": [],
   "source": [
    "## Retira null\n",
    "train = train.dropna(how = 'any', axis = 'rows')\n",
    "## Retira outliers\n",
    "train= train[(train.dropoff_longitude < -72) & (train.dropoff_longitude > -75) &\n",
    "             (train.dropoff_latitude < 42) & (train.dropoff_latitude > 40) &\n",
    "             (train.pickup_longitude < -72) & (train.pickup_longitude > -75) &\n",
    "             (train.pickup_latitude < 42) & (train.pickup_latitude > 40) &\n",
    "             (train.passenger_count > 0) &\n",
    "             (train.fare_amount < 250) & (train.fare_amount > 0)]\n",
    "train = train[(train['dropoff_longitude'] != train['pickup_longitude'])]\n",
    "train = train[(train['dropoff_latitude'] != train['pickup_latitude'])]"
   ]
  },
  {
   "cell_type": "code",
   "execution_count": null,
   "id": "103e421a",
   "metadata": {},
   "outputs": [],
   "source": [
    "len(train)"
   ]
  },
  {
   "cell_type": "code",
   "execution_count": null,
   "id": "db0b90a3",
   "metadata": {},
   "outputs": [],
   "source": [
    "539356*100/554239"
   ]
  },
  {
   "cell_type": "code",
   "execution_count": null,
   "id": "d0de65ce",
   "metadata": {},
   "outputs": [],
   "source": [
    "train.describe()"
   ]
  },
  {
   "cell_type": "markdown",
   "id": "02e3675d",
   "metadata": {
    "heading_collapsed": true
   },
   "source": [
    "## Exploratória"
   ]
  },
  {
   "cell_type": "code",
   "execution_count": null,
   "id": "d3d770af",
   "metadata": {
    "hidden": true
   },
   "outputs": [],
   "source": [
    "from numpy import unique\n",
    "from numpy import where\n",
    "from sklearn.datasets import make_classification\n",
    "from sklearn.mixture import GaussianMixture\n",
    "from matplotlib import pyplot"
   ]
  },
  {
   "cell_type": "code",
   "execution_count": null,
   "id": "d8e908a3",
   "metadata": {
    "hidden": true
   },
   "outputs": [],
   "source": [
    "train = train.dropna(how = 'any', axis = 'rows')\n",
    "train = train[train.fare_amount>0]\n",
    "len(train)"
   ]
  },
  {
   "cell_type": "code",
   "execution_count": null,
   "id": "50931dec",
   "metadata": {
    "hidden": true
   },
   "outputs": [],
   "source": [
    "train2= train[(train.dropoff_longitude < -73.7) & (train.dropoff_longitude > -74.1) &\n",
    "             (train.dropoff_latitude < 40.9) & (train.dropoff_latitude > 40.57) &\n",
    "             (train.pickup_longitude < -73.7) & (train.pickup_longitude > -74.1) &\n",
    "             (train.pickup_latitude < 40.9) & (train.pickup_latitude > 40.57) &\n",
    "             (train.passenger_count > 0) &\n",
    "             (train.fare_amount < 60) & (train.fare_amount > 0)]\n",
    "len(train2)"
   ]
  },
  {
   "cell_type": "code",
   "execution_count": null,
   "id": "efd69dd1",
   "metadata": {
    "hidden": true
   },
   "outputs": [],
   "source": [
    "train2 = train.copy()"
   ]
  },
  {
   "cell_type": "code",
   "execution_count": null,
   "id": "294da9f3",
   "metadata": {
    "hidden": true
   },
   "outputs": [],
   "source": [
    "for col in ['dropoff_longitude', 'dropoff_latitude', 'pickup_longitude', 'pickup_latitude', 'passenger_count']:\n",
    "    print(col)\n",
    "    print(train2[col].max())\n",
    "    print(train2[col].min())\n",
    "    train2[col].hist(bins=100)\n",
    "    plt.show()\n"
   ]
  },
  {
   "cell_type": "code",
   "execution_count": null,
   "id": "d1a714b8",
   "metadata": {
    "hidden": true
   },
   "outputs": [],
   "source": [
    "add_travel_vector_features(train2)\n",
    "train2 = train2.dropna(how = 'any', axis = 'rows')\n",
    "train2['pickup_datetime'] = pd.to_datetime(train2['pickup_datetime'])\n",
    "add_time_variables(train2)"
   ]
  },
  {
   "cell_type": "code",
   "execution_count": null,
   "id": "c2d89af6",
   "metadata": {
    "hidden": true
   },
   "outputs": [],
   "source": [
    "for col in ['abs_diff_longitude', 'abs_diff_latitude', 'year', 'month', 'week', 'hour']:\n",
    "    print(col)\n",
    "    print(train2[col].max())\n",
    "    print(train2[col].min())\n",
    "    train2[col].hist(bins=100)\n",
    "    plt.show()"
   ]
  },
  {
   "cell_type": "code",
   "execution_count": null,
   "id": "023df89b",
   "metadata": {
    "hidden": true
   },
   "outputs": [],
   "source": [
    "pyplot.scatter(train2.dropoff_longitude, train2.dropoff_latitude)\n",
    "pyplot.show()"
   ]
  },
  {
   "cell_type": "code",
   "execution_count": null,
   "id": "03dae436",
   "metadata": {
    "hidden": true
   },
   "outputs": [],
   "source": [
    "pyplot.scatter(test.pickup_longitude, test.pickup_latitude)\n",
    "pyplot.show()"
   ]
  },
  {
   "cell_type": "code",
   "execution_count": null,
   "id": "ebec1516",
   "metadata": {
    "hidden": true
   },
   "outputs": [],
   "source": [
    "train2 = test.copy()\n",
    "add_haversine_distance(train2)\n",
    "\n",
    "print(len(train2))\n",
    "#train2['ratio'] = train2['fare_amount']/train2['distance']\n",
    "#train2= train2[(train2.distance < 40)]\n",
    "#pyplot.scatter(train2.fare_amount, train2.distance)\n",
    "train2['distance'].hist(bins=100)\n",
    "pyplot.show()"
   ]
  },
  {
   "cell_type": "code",
   "execution_count": null,
   "id": "4e949e7d",
   "metadata": {
    "hidden": true
   },
   "outputs": [],
   "source": [
    "train2 = train.copy()\n",
    "add_distance(train2)\n",
    "train2= train2[(train2.distance > 0)]\n",
    "train2['ratio'] = train2['fare_amount']/train2['distance']\n",
    "train2= train2[(train2.ratio < 100)]\n",
    "print(len(train2)*100/554239)\n",
    "train2['ratio'].hist(bins=1000)\n",
    "plt.show()"
   ]
  },
  {
   "cell_type": "code",
   "execution_count": null,
   "id": "ad07f039",
   "metadata": {
    "hidden": true
   },
   "outputs": [],
   "source": [
    "train2.groupby('fare_amount').count().sort_values('key', ascending = False).head(100)"
   ]
  },
  {
   "cell_type": "code",
   "execution_count": null,
   "id": "13545ed7",
   "metadata": {
    "hidden": true
   },
   "outputs": [],
   "source": [
    "train2 = train.copy()"
   ]
  },
  {
   "cell_type": "code",
   "execution_count": null,
   "id": "640487b9",
   "metadata": {
    "hidden": true
   },
   "outputs": [],
   "source": [
    "train2.groupby('fare_amount').count().head(20)"
   ]
  },
  {
   "cell_type": "code",
   "execution_count": null,
   "id": "9931f646",
   "metadata": {
    "hidden": true
   },
   "outputs": [],
   "source": []
  },
  {
   "cell_type": "markdown",
   "id": "64287bb6",
   "metadata": {},
   "source": [
    "## Tratando base de treino"
   ]
  },
  {
   "cell_type": "code",
   "execution_count": 5,
   "id": "6c893d7a",
   "metadata": {
    "code_folding": [
     0
    ]
   },
   "outputs": [],
   "source": [
    "def haversine(lat1, lon1, lat2, lon2, to_radians=True, earth_radius=6371):\n",
    "    \"\"\"\n",
    "    slightly modified version: of http://stackoverflow.com/a/29546836/2901002\n",
    "\n",
    "    Calculate the great circle distance between two points\n",
    "    on the earth (specified in decimal degrees or in radians)\n",
    "\n",
    "    All (lat, lon) coordinates must have numeric dtypes and be of equal length.\n",
    "\n",
    "    \"\"\"\n",
    "    if to_radians:\n",
    "        lat1, lon1, lat2, lon2 = np.radians([lat1, lon1, lat2, lon2])\n",
    "\n",
    "    a = np.sin((lat2-lat1)/2.0)**2 + \\\n",
    "        np.cos(lat1) * np.cos(lat2) * np.sin((lon2-lon1)/2.0)**2\n",
    "\n",
    "    return earth_radius * 2 * np.arcsin(np.sqrt(a))"
   ]
  },
  {
   "cell_type": "code",
   "execution_count": 6,
   "id": "3a789517",
   "metadata": {
    "code_folding": [
     5,
     11,
     18,
     21,
     24,
     44,
     56
    ]
   },
   "outputs": [],
   "source": [
    "import math\n",
    "\n",
    "def add_travel_vector_features(df):\n",
    "    df['abs_diff_longitude'] = (df.dropoff_longitude - df.pickup_longitude).abs()\n",
    "    df['abs_diff_latitude'] = (df.dropoff_latitude - df.pickup_latitude).abs()\n",
    "def add_time_variables(df):\n",
    "    df['week'] = df['pickup_datetime'].dt.weekday\n",
    "    df['hour'] = df['pickup_datetime'].dt.hour\n",
    "    df['month'] = df['pickup_datetime'].dt.month\n",
    "    df['year'] = df['pickup_datetime'].dt.year\n",
    "    df['day'] = df['pickup_datetime'].dt.day\n",
    "def late_night (df):\n",
    "    df['late_night'] = 0\n",
    "    df[(df['hour'] <= 6) | (df['hour'] >= 20)]['late_night'] = 1\n",
    "def night (df):\n",
    "    df['night'] = 0\n",
    "    df[((df['hour'] <= 20) & (df['hour'] >= 16)) & (df['week'] < 5)]['night'] = 1\n",
    "\n",
    "def add_haversine_distance(df):\n",
    "    df['distance'] = haversine(df.pickup_latitude, df.pickup_longitude,\n",
    "                               df.dropoff_latitude, df.dropoff_longitude)\n",
    "def add_manhatan_distance(df):\n",
    "    df['manhatan'] = df['abs_diff_longitude'] + df ['abs_diff_latitude']\n",
    "\n",
    "def add_quadrant(df, n):\n",
    "    \"\"\"\n",
    "    min_lat = min(train.pickup_latitude.min(), train.dropoff_latitude.min())\n",
    "    min_lon = min(train.pickup_longitude.min(), train.dropoff_longitude.min())\n",
    "    max_lat = max(train.pickup_latitude.max(), train.dropoff_latitude.max())\n",
    "    max_lon = max(train.pickup_longitude.max(), train.dropoff_longitude.max())\n",
    "    \"\"\"\n",
    "    min_lat = 40.6\n",
    "    min_lon = -74.1\n",
    "    max_lat = 40.9\n",
    "    max_lon = -73.7\n",
    "    cols = np.linspace(min_lat, max_lat, num=n)\n",
    "    rows = np.linspace(min_lon, max_lon, num=n)\n",
    "    df['pickup_quadrant_lat'] = np.searchsorted(cols, df['pickup_latitude'])\n",
    "    df['pickup_quadrant_lon'] = np.searchsorted(rows, df['pickup_longitude'])\n",
    "    df['pickup_quadrant'] = df['pickup_quadrant_lat'] + n*df['pickup_quadrant_lon']\n",
    "    df['dropoff_quadrant_lat'] = np.searchsorted(cols, df['dropoff_latitude'])\n",
    "    df['dropoff_quadrant_lon'] = np.searchsorted(rows, df['dropoff_longitude'])\n",
    "    df['dropoff_quadrant'] = df['dropoff_quadrant_lat'] + n*df['dropoff_quadrant_lon']\n",
    "    df['quadrant_distance'] = ((df['dropoff_quadrant_lat']-df['pickup_quadrant_lat'])^2+(df['dropoff_quadrant_lon']-df['pickup_quadrant_lon'])^2)\n",
    "def add_direction(df):\n",
    "    df['aux']=df.dropoff_longitude - df.pickup_longitude\n",
    "    df['direction_longitude']=0\n",
    "    df[df['aux']>0]['direction_longitude']=1\n",
    "    df['aux']=df.dropoff_latitude - df.pickup_latitude\n",
    "    df['direction_latitude']=0\n",
    "    df[df['aux']>0]['direction_latitude']=1\n",
    "    angle =(df.dropoff_latitude - df.pickup_latitude)/(df.dropoff_longitude - df.pickup_longitude)\n",
    "    angle[(df.dropoff_longitude - df.pickup_longitude)==0]=0\n",
    "    df['angle']=np.arctan(angle)\n",
    "        \n",
    "\n",
    "def add_special_location(df):\n",
    "    locations = {'A' : [-74.0063889, 40.7141667],\n",
    "                 'B' : [-73.7822222222, 40.6441666667],\n",
    "                 'C' : [-74.175, 40.69],\n",
    "                 'D' : [-73.87, 40.77]}\n",
    "    for key in locations.keys():\n",
    "        df['distance_dropoff_' + key] = (locations[key][1]-df['dropoff_latitude'])*(locations[key][1]-df['dropoff_latitude'])+(locations[key][0]-df['dropoff_longitude'])*(locations[key][0]-df['dropoff_longitude'])\n",
    "        df['distance_pickup_' + key] = (locations[key][1]-df['pickup_latitude'])*(locations[key][1]-df['pickup_latitude'])+(locations[key][0]-df['pickup_longitude'])*(locations[key][0]-df['pickup_longitude'])\n",
    "        "
   ]
  },
  {
   "cell_type": "code",
   "execution_count": 7,
   "id": "dd59613b",
   "metadata": {},
   "outputs": [],
   "source": [
    "train_treated = train.copy()"
   ]
  },
  {
   "cell_type": "code",
   "execution_count": 8,
   "id": "70484554",
   "metadata": {},
   "outputs": [
    {
     "name": "stdout",
     "output_type": "stream",
     "text": [
      "===\n",
      "===\n"
     ]
    },
    {
     "name": "stderr",
     "output_type": "stream",
     "text": [
      "<ipython-input-6-d52e71553a2d>:14: SettingWithCopyWarning: \n",
      "A value is trying to be set on a copy of a slice from a DataFrame.\n",
      "Try using .loc[row_indexer,col_indexer] = value instead\n",
      "\n",
      "See the caveats in the documentation: https://pandas.pydata.org/pandas-docs/stable/user_guide/indexing.html#returning-a-view-versus-a-copy\n",
      "  df[(df['hour'] <= 6) | (df['hour'] >= 20)]['late_night'] = 1\n",
      "<ipython-input-6-d52e71553a2d>:17: SettingWithCopyWarning: \n",
      "A value is trying to be set on a copy of a slice from a DataFrame.\n",
      "Try using .loc[row_indexer,col_indexer] = value instead\n",
      "\n",
      "See the caveats in the documentation: https://pandas.pydata.org/pandas-docs/stable/user_guide/indexing.html#returning-a-view-versus-a-copy\n",
      "  df[((df['hour'] <= 20) & (df['hour'] >= 16)) & (df['week'] < 5)]['night'] = 1\n"
     ]
    },
    {
     "name": "stdout",
     "output_type": "stream",
     "text": [
      "===\n",
      "===\n",
      "===\n"
     ]
    },
    {
     "name": "stderr",
     "output_type": "stream",
     "text": [
      "<ipython-input-6-d52e71553a2d>:48: SettingWithCopyWarning: \n",
      "A value is trying to be set on a copy of a slice from a DataFrame.\n",
      "Try using .loc[row_indexer,col_indexer] = value instead\n",
      "\n",
      "See the caveats in the documentation: https://pandas.pydata.org/pandas-docs/stable/user_guide/indexing.html#returning-a-view-versus-a-copy\n",
      "  df[df['aux']>0]['direction_longitude']=1\n",
      "<ipython-input-6-d52e71553a2d>:51: SettingWithCopyWarning: \n",
      "A value is trying to be set on a copy of a slice from a DataFrame.\n",
      "Try using .loc[row_indexer,col_indexer] = value instead\n",
      "\n",
      "See the caveats in the documentation: https://pandas.pydata.org/pandas-docs/stable/user_guide/indexing.html#returning-a-view-versus-a-copy\n",
      "  df[df['aux']>0]['direction_latitude']=1\n"
     ]
    },
    {
     "name": "stdout",
     "output_type": "stream",
     "text": [
      "===\n",
      "===\n",
      "===\n"
     ]
    }
   ],
   "source": [
    "train_treated = train_treated.dropna(how = 'any', axis = 'rows')\n",
    "add_travel_vector_features(train_treated)\n",
    "print(\"===\")\n",
    "train_treated['pickup_datetime'] = pd.to_datetime(train_treated['pickup_datetime'])\n",
    "add_time_variables(train_treated)\n",
    "print(\"===\")\n",
    "late_night(train_treated)\n",
    "night(train_treated)\n",
    "print(\"===\")\n",
    "add_haversine_distance(train_treated)\n",
    "print(\"===\")\n",
    "add_manhatan_distance(train_treated)\n",
    "print(\"===\")\n",
    "add_direction(train_treated)\n",
    "print(\"===\")\n",
    "add_special_location(train_treated)\n",
    "print(\"===\")\n",
    "add_quadrant(train_treated, 6)\n",
    "print(\"===\")\n",
    "select_cols=['abs_diff_longitude', 'abs_diff_latitude', 'distance', 'passenger_count', 'fare_amount',\n",
    "             'year', 'month', 'week', 'hour', 'day', 'pickup_quadrant', 'dropoff_quadrant',\n",
    "             'distance_dropoff_A', 'quadrant_distance', 'pickup_quadrant_lat', 'pickup_quadrant_lon',\n",
    "             'dropoff_quadrant_lat', 'dropoff_quadrant_lon',\n",
    "             'distance_dropoff_B', 'distance_dropoff_C', 'distance_dropoff_D', 'distance_pickup_A',\n",
    "             'distance_pickup_B', 'distance_pickup_C', 'distance_pickup_D', 'direction_longitude',\n",
    "             'direction_latitude', 'angle', 'night', 'late_night', 'manhatan', 'dropoff_longitude',\n",
    "             'pickup_longitude', 'dropoff_latitude', 'pickup_latitude']\n",
    "encode_cols=['year', 'month', 'week', 'hour', 'pickup_quadrant', 'dropoff_quadrant']\n",
    "encode_cols_dict={'week': 'week',\n",
    "                  'hour': 'hour',\n",
    "                  'month': 'month',\n",
    "                  'year': 'year',\n",
    "                  'pickup_quadrant': 'pickup_quadrant',\n",
    "                  'dropoff_quadrant': 'dropoff_quadrant'}\n",
    "train_treated = train_treated[select_cols]\n",
    "train_treated = pd.get_dummies(train_treated, prefix=encode_cols_dict, columns=encode_cols)\n"
   ]
  },
  {
   "cell_type": "code",
   "execution_count": 9,
   "id": "f7dd356a",
   "metadata": {},
   "outputs": [],
   "source": [
    "y_train = train_treated[['fare_amount']]\n",
    "X_train = train_treated.drop('fare_amount', axis=1)"
   ]
  },
  {
   "cell_type": "code",
   "execution_count": 10,
   "id": "20653bc8",
   "metadata": {},
   "outputs": [],
   "source": [
    "scaler = pp.MinMaxScaler()\n",
    "X_train = scaler.fit_transform(X_train)"
   ]
  },
  {
   "cell_type": "markdown",
   "id": "8191b249",
   "metadata": {},
   "source": [
    "scaler = pp.StandardScaler()\n",
    "X_train = scaler.fit_transform(X_train)"
   ]
  },
  {
   "cell_type": "markdown",
   "id": "039acaff",
   "metadata": {},
   "source": [
    "## Split"
   ]
  },
  {
   "cell_type": "code",
   "execution_count": null,
   "id": "0b439320",
   "metadata": {},
   "outputs": [],
   "source": [
    "X_train, X_test, y_train, y_test = train_test_split(\n",
    "    X_train,\n",
    "    y_train,\n",
    "    train_size=0.8,\n",
    "    random_state=42)"
   ]
  },
  {
   "cell_type": "code",
   "execution_count": 11,
   "id": "3c5ef50c",
   "metadata": {},
   "outputs": [],
   "source": [
    "X_train, X_val, y_train, y_val = train_test_split(\n",
    "    X_train,\n",
    "    y_train,\n",
    "    train_size=0.8,\n",
    "    random_state=42)"
   ]
  },
  {
   "cell_type": "markdown",
   "id": "17aac720",
   "metadata": {},
   "source": [
    "## Treinando"
   ]
  },
  {
   "cell_type": "code",
   "execution_count": 12,
   "id": "baaeb32d",
   "metadata": {},
   "outputs": [],
   "source": [
    "### rede\n",
    "ann = tf.keras.models.Sequential()\n",
    "ann.add(tf.keras.layers.Dense(units=32, activation='relu'))\n",
    "ann.add(tf.keras.layers.Dropout(rate=0.06))\n",
    "for _ in range(5):\n",
    "    ann.add(tf.keras.layers.Dense(units=32, activation='elu'))\n",
    "    ann.add(tf.keras.layers.Dropout(rate=0.06))\n",
    "ann.add(tf.keras.layers.Dense(units=1, activation='linear'))\n",
    "adam = tf.keras.optimizers.Adam(learning_rate=0.0002)\n",
    "ann.compile(optimizer = adam, loss = 'mse', metrics = tf.keras.metrics.RootMeanSquaredError())"
   ]
  },
  {
   "cell_type": "code",
   "execution_count": 13,
   "id": "1117ff03",
   "metadata": {},
   "outputs": [],
   "source": [
    "early_stop = tf.keras.callbacks.EarlyStopping(monitor='val_loss', patience=100)"
   ]
  },
  {
   "cell_type": "code",
   "execution_count": null,
   "id": "1abe9f28",
   "metadata": {},
   "outputs": [
    {
     "name": "stdout",
     "output_type": "stream",
     "text": [
      "Epoch 1/200\n",
      "8355/8355 [==============================] - 34s 4ms/step - loss: 26.6424 - root_mean_squared_error: 5.1616 - val_loss: 14.7375 - val_root_mean_squared_error: 3.8389\n",
      "Epoch 2/200\n",
      "8355/8355 [==============================] - 33s 4ms/step - loss: 15.8459 - root_mean_squared_error: 3.9807 - val_loss: 13.5422 - val_root_mean_squared_error: 3.6800\n",
      "Epoch 3/200\n",
      "8355/8355 [==============================] - 34s 4ms/step - loss: 14.9255 - root_mean_squared_error: 3.8633 - val_loss: 13.2085 - val_root_mean_squared_error: 3.6344\n",
      "Epoch 4/200\n",
      "8355/8355 [==============================] - 35s 4ms/step - loss: 14.4849 - root_mean_squared_error: 3.8059 - val_loss: 12.9283 - val_root_mean_squared_error: 3.5956\n",
      "Epoch 5/200\n",
      "8355/8355 [==============================] - 35s 4ms/step - loss: 14.2444 - root_mean_squared_error: 3.7742 - val_loss: 12.7772 - val_root_mean_squared_error: 3.5745\n",
      "Epoch 6/200\n",
      "8355/8355 [==============================] - 33s 4ms/step - loss: 14.0522 - root_mean_squared_error: 3.7486 - val_loss: 12.6960 - val_root_mean_squared_error: 3.5632\n",
      "Epoch 7/200\n",
      "8355/8355 [==============================] - 32s 4ms/step - loss: 13.9104 - root_mean_squared_error: 3.7297 - val_loss: 12.6559 - val_root_mean_squared_error: 3.5575\n",
      "Epoch 8/200\n",
      "8355/8355 [==============================] - 32s 4ms/step - loss: 13.8127 - root_mean_squared_error: 3.7165 - val_loss: 12.5361 - val_root_mean_squared_error: 3.5406\n",
      "Epoch 9/200\n",
      "8355/8355 [==============================] - 32s 4ms/step - loss: 13.7226 - root_mean_squared_error: 3.7044 - val_loss: 12.6452 - val_root_mean_squared_error: 3.5560\n",
      "Epoch 10/200\n",
      "8355/8355 [==============================] - 33s 4ms/step - loss: 13.6520 - root_mean_squared_error: 3.6949 - val_loss: 12.5427 - val_root_mean_squared_error: 3.5416\n",
      "Epoch 11/200\n",
      "8355/8355 [==============================] - 32s 4ms/step - loss: 13.6157 - root_mean_squared_error: 3.6899 - val_loss: 12.5043 - val_root_mean_squared_error: 3.5361\n",
      "Epoch 12/200\n",
      "8355/8355 [==============================] - 36s 4ms/step - loss: 13.5377 - root_mean_squared_error: 3.6794 - val_loss: 12.4534 - val_root_mean_squared_error: 3.5289\n",
      "Epoch 13/200\n",
      "8355/8355 [==============================] - 32s 4ms/step - loss: 13.4931 - root_mean_squared_error: 3.6733 - val_loss: 12.4244 - val_root_mean_squared_error: 3.5248\n",
      "Epoch 14/200\n",
      "8355/8355 [==============================] - 32s 4ms/step - loss: 13.4493 - root_mean_squared_error: 3.6673 - val_loss: 12.4602 - val_root_mean_squared_error: 3.5299\n",
      "Epoch 15/200\n",
      "8355/8355 [==============================] - 32s 4ms/step - loss: 13.4108 - root_mean_squared_error: 3.6621 - val_loss: 12.4030 - val_root_mean_squared_error: 3.5218\n",
      "Epoch 16/200\n",
      "8355/8355 [==============================] - 32s 4ms/step - loss: 13.3870 - root_mean_squared_error: 3.6588 - val_loss: 12.3897 - val_root_mean_squared_error: 3.5199\n",
      "Epoch 17/200\n",
      "8355/8355 [==============================] - 32s 4ms/step - loss: 13.3663 - root_mean_squared_error: 3.6560 - val_loss: 12.4943 - val_root_mean_squared_error: 3.5347\n",
      "Epoch 18/200\n",
      "8355/8355 [==============================] - 32s 4ms/step - loss: 13.3168 - root_mean_squared_error: 3.6492 - val_loss: 12.3835 - val_root_mean_squared_error: 3.5190\n",
      "Epoch 19/200\n",
      "8355/8355 [==============================] - 32s 4ms/step - loss: 13.3161 - root_mean_squared_error: 3.6491 - val_loss: 12.3496 - val_root_mean_squared_error: 3.5142\n",
      "Epoch 20/200\n",
      "8355/8355 [==============================] - 32s 4ms/step - loss: 13.2678 - root_mean_squared_error: 3.6425 - val_loss: 12.4159 - val_root_mean_squared_error: 3.5236\n",
      "Epoch 21/200\n",
      "8355/8355 [==============================] - 32s 4ms/step - loss: 13.2471 - root_mean_squared_error: 3.6397 - val_loss: 12.3668 - val_root_mean_squared_error: 3.5166\n",
      "Epoch 22/200\n",
      "8355/8355 [==============================] - 32s 4ms/step - loss: 13.2102 - root_mean_squared_error: 3.6346 - val_loss: 12.3722 - val_root_mean_squared_error: 3.5174\n",
      "Epoch 23/200\n",
      "8355/8355 [==============================] - 31s 4ms/step - loss: 13.1722 - root_mean_squared_error: 3.6294 - val_loss: 12.3588 - val_root_mean_squared_error: 3.5155\n",
      "Epoch 24/200\n",
      "8355/8355 [==============================] - 32s 4ms/step - loss: 13.1825 - root_mean_squared_error: 3.6308 - val_loss: 12.3053 - val_root_mean_squared_error: 3.5079\n",
      "Epoch 25/200\n",
      "8355/8355 [==============================] - 32s 4ms/step - loss: 13.1511 - root_mean_squared_error: 3.6264 - val_loss: 12.3363 - val_root_mean_squared_error: 3.5123\n",
      "Epoch 26/200\n",
      "8355/8355 [==============================] - 32s 4ms/step - loss: 13.1504 - root_mean_squared_error: 3.6263 - val_loss: 12.2980 - val_root_mean_squared_error: 3.5068\n",
      "Epoch 27/200\n",
      "8355/8355 [==============================] - 32s 4ms/step - loss: 13.1178 - root_mean_squared_error: 3.6219 - val_loss: 12.3452 - val_root_mean_squared_error: 3.5136\n",
      "Epoch 28/200\n",
      "8355/8355 [==============================] - 32s 4ms/step - loss: 13.1008 - root_mean_squared_error: 3.6195 - val_loss: 12.3230 - val_root_mean_squared_error: 3.5104\n",
      "Epoch 29/200\n",
      "8355/8355 [==============================] - 32s 4ms/step - loss: 13.0544 - root_mean_squared_error: 3.6131 - val_loss: 12.3542 - val_root_mean_squared_error: 3.5149\n",
      "Epoch 30/200\n",
      "8355/8355 [==============================] - 32s 4ms/step - loss: 13.0576 - root_mean_squared_error: 3.6135 - val_loss: 12.2867 - val_root_mean_squared_error: 3.5052\n",
      "Epoch 31/200\n",
      "8355/8355 [==============================] - 32s 4ms/step - loss: 13.0494 - root_mean_squared_error: 3.6124 - val_loss: 12.2982 - val_root_mean_squared_error: 3.5069\n",
      "Epoch 32/200\n",
      "8355/8355 [==============================] - 32s 4ms/step - loss: 13.0217 - root_mean_squared_error: 3.6086 - val_loss: 12.3939 - val_root_mean_squared_error: 3.5205\n",
      "Epoch 33/200\n",
      "8355/8355 [==============================] - 32s 4ms/step - loss: 12.9973 - root_mean_squared_error: 3.6052 - val_loss: 12.2826 - val_root_mean_squared_error: 3.5047\n",
      "Epoch 34/200\n",
      "8355/8355 [==============================] - 32s 4ms/step - loss: 12.9895 - root_mean_squared_error: 3.6041 - val_loss: 12.3299 - val_root_mean_squared_error: 3.5114\n",
      "Epoch 35/200\n",
      "8355/8355 [==============================] - 32s 4ms/step - loss: 12.9775 - root_mean_squared_error: 3.6024 - val_loss: 12.3316 - val_root_mean_squared_error: 3.5116\n",
      "Epoch 36/200\n",
      "8355/8355 [==============================] - 32s 4ms/step - loss: 12.9735 - root_mean_squared_error: 3.6019 - val_loss: 12.3865 - val_root_mean_squared_error: 3.5194\n",
      "Epoch 37/200\n",
      "8355/8355 [==============================] - 32s 4ms/step - loss: 12.9611 - root_mean_squared_error: 3.6002 - val_loss: 12.2914 - val_root_mean_squared_error: 3.5059\n",
      "Epoch 38/200\n",
      "8355/8355 [==============================] - 32s 4ms/step - loss: 12.9864 - root_mean_squared_error: 3.6037 - val_loss: 12.3114 - val_root_mean_squared_error: 3.5088\n",
      "Epoch 39/200\n",
      "8355/8355 [==============================] - 32s 4ms/step - loss: 12.9435 - root_mean_squared_error: 3.5977 - val_loss: 12.3150 - val_root_mean_squared_error: 3.5093\n",
      "Epoch 40/200\n",
      "8355/8355 [==============================] - 33s 4ms/step - loss: 12.9157 - root_mean_squared_error: 3.5938 - val_loss: 12.2849 - val_root_mean_squared_error: 3.5050\n",
      "Epoch 41/200\n",
      "8355/8355 [==============================] - 32s 4ms/step - loss: 12.9152 - root_mean_squared_error: 3.5938 - val_loss: 12.3395 - val_root_mean_squared_error: 3.5128\n",
      "Epoch 42/200\n",
      "8355/8355 [==============================] - 32s 4ms/step - loss: 12.9102 - root_mean_squared_error: 3.5931 - val_loss: 12.3053 - val_root_mean_squared_error: 3.5079\n",
      "Epoch 43/200\n",
      "8355/8355 [==============================] - 34s 4ms/step - loss: 12.9130 - root_mean_squared_error: 3.5935 - val_loss: 12.2865 - val_root_mean_squared_error: 3.5052\n",
      "Epoch 44/200\n",
      "8355/8355 [==============================] - 32s 4ms/step - loss: 12.8817 - root_mean_squared_error: 3.5891 - val_loss: 12.2620 - val_root_mean_squared_error: 3.5017\n",
      "Epoch 45/200\n",
      "8355/8355 [==============================] - 32s 4ms/step - loss: 12.8887 - root_mean_squared_error: 3.5901 - val_loss: 12.2814 - val_root_mean_squared_error: 3.5045\n",
      "Epoch 46/200\n",
      "8355/8355 [==============================] - 32s 4ms/step - loss: 12.9017 - root_mean_squared_error: 3.5919 - val_loss: 12.2804 - val_root_mean_squared_error: 3.5043\n"
     ]
    },
    {
     "name": "stdout",
     "output_type": "stream",
     "text": [
      "Epoch 47/200\n",
      "8355/8355 [==============================] - 32s 4ms/step - loss: 12.8722 - root_mean_squared_error: 3.5878 - val_loss: 12.3425 - val_root_mean_squared_error: 3.5132\n",
      "Epoch 48/200\n",
      "8355/8355 [==============================] - 32s 4ms/step - loss: 12.8613 - root_mean_squared_error: 3.5863 - val_loss: 12.2522 - val_root_mean_squared_error: 3.5003\n",
      "Epoch 49/200\n",
      "8355/8355 [==============================] - 32s 4ms/step - loss: 12.8349 - root_mean_squared_error: 3.5826 - val_loss: 12.2982 - val_root_mean_squared_error: 3.5069\n",
      "Epoch 50/200\n",
      "8355/8355 [==============================] - 34s 4ms/step - loss: 12.8411 - root_mean_squared_error: 3.5835 - val_loss: 12.2943 - val_root_mean_squared_error: 3.5063\n",
      "Epoch 51/200\n",
      "8355/8355 [==============================] - 32s 4ms/step - loss: 12.8049 - root_mean_squared_error: 3.5784 - val_loss: 12.2815 - val_root_mean_squared_error: 3.5045\n",
      "Epoch 52/200\n",
      "8355/8355 [==============================] - 33s 4ms/step - loss: 12.8245 - root_mean_squared_error: 3.5811 - val_loss: 12.2672 - val_root_mean_squared_error: 3.5025\n",
      "Epoch 53/200\n",
      "8355/8355 [==============================] - 32s 4ms/step - loss: 12.8105 - root_mean_squared_error: 3.5792 - val_loss: 12.2813 - val_root_mean_squared_error: 3.5045\n",
      "Epoch 54/200\n",
      "8355/8355 [==============================] - 32s 4ms/step - loss: 12.7938 - root_mean_squared_error: 3.5768 - val_loss: 12.2902 - val_root_mean_squared_error: 3.5057\n",
      "Epoch 55/200\n",
      "8355/8355 [==============================] - 32s 4ms/step - loss: 12.7896 - root_mean_squared_error: 3.5763 - val_loss: 12.2491 - val_root_mean_squared_error: 3.4999\n",
      "Epoch 56/200\n",
      "8355/8355 [==============================] - 33s 4ms/step - loss: 12.7887 - root_mean_squared_error: 3.5761 - val_loss: 12.2988 - val_root_mean_squared_error: 3.5070\n",
      "Epoch 57/200\n",
      "8355/8355 [==============================] - 32s 4ms/step - loss: 12.7830 - root_mean_squared_error: 3.5753 - val_loss: 12.2670 - val_root_mean_squared_error: 3.5024\n",
      "Epoch 58/200\n",
      "8355/8355 [==============================] - 33s 4ms/step - loss: 12.7756 - root_mean_squared_error: 3.5743 - val_loss: 12.2809 - val_root_mean_squared_error: 3.5044\n",
      "Epoch 59/200\n",
      "8355/8355 [==============================] - 32s 4ms/step - loss: 12.7737 - root_mean_squared_error: 3.5740 - val_loss: 12.2937 - val_root_mean_squared_error: 3.5062\n",
      "Epoch 60/200\n",
      "8355/8355 [==============================] - 32s 4ms/step - loss: 12.7448 - root_mean_squared_error: 3.5700 - val_loss: 12.2967 - val_root_mean_squared_error: 3.5067\n",
      "Epoch 61/200\n",
      "8355/8355 [==============================] - 32s 4ms/step - loss: 12.7363 - root_mean_squared_error: 3.5688 - val_loss: 12.2973 - val_root_mean_squared_error: 3.5068\n",
      "Epoch 62/200\n",
      "8355/8355 [==============================] - 32s 4ms/step - loss: 12.7423 - root_mean_squared_error: 3.5696 - val_loss: 12.3259 - val_root_mean_squared_error: 3.5108\n",
      "Epoch 63/200\n",
      "8355/8355 [==============================] - 32s 4ms/step - loss: 12.7422 - root_mean_squared_error: 3.5696 - val_loss: 12.3438 - val_root_mean_squared_error: 3.5134\n",
      "Epoch 64/200\n",
      "8355/8355 [==============================] - 32s 4ms/step - loss: 12.7507 - root_mean_squared_error: 3.5708 - val_loss: 12.3777 - val_root_mean_squared_error: 3.5182\n",
      "Epoch 65/200\n",
      "8355/8355 [==============================] - 34s 4ms/step - loss: 12.7321 - root_mean_squared_error: 3.5682 - val_loss: 12.3576 - val_root_mean_squared_error: 3.5153\n",
      "Epoch 66/200\n",
      "8355/8355 [==============================] - 32s 4ms/step - loss: 12.7375 - root_mean_squared_error: 3.5690 - val_loss: 12.3554 - val_root_mean_squared_error: 3.5150\n",
      "Epoch 67/200\n",
      "8355/8355 [==============================] - 32s 4ms/step - loss: 12.7510 - root_mean_squared_error: 3.5709 - val_loss: 12.2724 - val_root_mean_squared_error: 3.5032\n",
      "Epoch 68/200\n",
      "8355/8355 [==============================] - 32s 4ms/step - loss: 12.7310 - root_mean_squared_error: 3.5681 - val_loss: 12.3154 - val_root_mean_squared_error: 3.5093\n",
      "Epoch 69/200\n",
      "8355/8355 [==============================] - 32s 4ms/step - loss: 12.7247 - root_mean_squared_error: 3.5672 - val_loss: 12.2735 - val_root_mean_squared_error: 3.5034\n",
      "Epoch 70/200\n",
      "8355/8355 [==============================] - 32s 4ms/step - loss: 12.7363 - root_mean_squared_error: 3.5688 - val_loss: 12.3172 - val_root_mean_squared_error: 3.5096\n",
      "Epoch 71/200\n",
      "8355/8355 [==============================] - 32s 4ms/step - loss: 12.7034 - root_mean_squared_error: 3.5642 - val_loss: 12.3462 - val_root_mean_squared_error: 3.5137\n",
      "Epoch 72/200\n",
      "8355/8355 [==============================] - 32s 4ms/step - loss: 12.7202 - root_mean_squared_error: 3.5665 - val_loss: 12.2928 - val_root_mean_squared_error: 3.5061\n",
      "Epoch 73/200\n",
      "8355/8355 [==============================] - 32s 4ms/step - loss: 12.7069 - root_mean_squared_error: 3.5647 - val_loss: 12.3004 - val_root_mean_squared_error: 3.5072\n",
      "Epoch 74/200\n",
      "8355/8355 [==============================] - 32s 4ms/step - loss: 12.7051 - root_mean_squared_error: 3.5644 - val_loss: 12.2174 - val_root_mean_squared_error: 3.4953\n",
      "Epoch 75/200\n",
      "8355/8355 [==============================] - 32s 4ms/step - loss: 12.7158 - root_mean_squared_error: 3.5659 - val_loss: 12.2146 - val_root_mean_squared_error: 3.4949\n",
      "Epoch 76/200\n",
      "8355/8355 [==============================] - 32s 4ms/step - loss: 12.6677 - root_mean_squared_error: 3.5592 - val_loss: 12.2899 - val_root_mean_squared_error: 3.5057\n",
      "Epoch 77/200\n",
      "8355/8355 [==============================] - 32s 4ms/step - loss: 12.7022 - root_mean_squared_error: 3.5640 - val_loss: 12.2937 - val_root_mean_squared_error: 3.5062\n",
      "Epoch 78/200\n",
      "8355/8355 [==============================] - 32s 4ms/step - loss: 12.6827 - root_mean_squared_error: 3.5613 - val_loss: 12.3299 - val_root_mean_squared_error: 3.5114\n",
      "Epoch 79/200\n",
      "8355/8355 [==============================] - 31s 4ms/step - loss: 12.6656 - root_mean_squared_error: 3.5589 - val_loss: 12.2633 - val_root_mean_squared_error: 3.5019\n",
      "Epoch 80/200\n",
      "8355/8355 [==============================] - 31s 4ms/step - loss: 12.6538 - root_mean_squared_error: 3.5572 - val_loss: 12.2568 - val_root_mean_squared_error: 3.5010\n",
      "Epoch 81/200\n",
      "8355/8355 [==============================] - 36s 4ms/step - loss: 12.6636 - root_mean_squared_error: 3.5586 - val_loss: 12.2530 - val_root_mean_squared_error: 3.5004\n",
      "Epoch 82/200\n",
      "8355/8355 [==============================] - 31s 4ms/step - loss: 12.6661 - root_mean_squared_error: 3.5589 - val_loss: 12.2776 - val_root_mean_squared_error: 3.5039\n",
      "Epoch 83/200\n",
      "8355/8355 [==============================] - 31s 4ms/step - loss: 12.6704 - root_mean_squared_error: 3.5596 - val_loss: 12.3058 - val_root_mean_squared_error: 3.5080\n",
      "Epoch 84/200\n",
      "8355/8355 [==============================] - 31s 4ms/step - loss: 12.6323 - root_mean_squared_error: 3.5542 - val_loss: 12.2310 - val_root_mean_squared_error: 3.4973\n",
      "Epoch 85/200\n",
      "8355/8355 [==============================] - 31s 4ms/step - loss: 12.6438 - root_mean_squared_error: 3.5558 - val_loss: 12.2824 - val_root_mean_squared_error: 3.5046\n",
      "Epoch 86/200\n",
      "8355/8355 [==============================] - 31s 4ms/step - loss: 12.6323 - root_mean_squared_error: 3.5542 - val_loss: 12.1509 - val_root_mean_squared_error: 3.4858\n",
      "Epoch 87/200\n",
      "8355/8355 [==============================] - 32s 4ms/step - loss: 12.6269 - root_mean_squared_error: 3.5534 - val_loss: 12.1600 - val_root_mean_squared_error: 3.4871\n",
      "Epoch 88/200\n",
      "8355/8355 [==============================] - 31s 4ms/step - loss: 12.5886 - root_mean_squared_error: 3.5480 - val_loss: 12.1695 - val_root_mean_squared_error: 3.4885\n",
      "Epoch 89/200\n",
      "8355/8355 [==============================] - 32s 4ms/step - loss: 12.5953 - root_mean_squared_error: 3.5490 - val_loss: 12.1403 - val_root_mean_squared_error: 3.4843\n",
      "Epoch 90/200\n",
      "8355/8355 [==============================] - 32s 4ms/step - loss: 12.5763 - root_mean_squared_error: 3.5463 - val_loss: 12.1307 - val_root_mean_squared_error: 3.4829\n",
      "Epoch 91/200\n",
      "8355/8355 [==============================] - 32s 4ms/step - loss: 12.5816 - root_mean_squared_error: 3.5471 - val_loss: 12.2167 - val_root_mean_squared_error: 3.4952\n",
      "Epoch 92/200\n",
      "8355/8355 [==============================] - 32s 4ms/step - loss: 12.5880 - root_mean_squared_error: 3.5480 - val_loss: 12.1516 - val_root_mean_squared_error: 3.4859\n"
     ]
    },
    {
     "name": "stdout",
     "output_type": "stream",
     "text": [
      "Epoch 93/200\n",
      "8355/8355 [==============================] - 32s 4ms/step - loss: 12.5639 - root_mean_squared_error: 3.5446 - val_loss: 12.1150 - val_root_mean_squared_error: 3.4807\n",
      "Epoch 94/200\n",
      "8355/8355 [==============================] - 32s 4ms/step - loss: 12.5418 - root_mean_squared_error: 3.5414 - val_loss: 12.1202 - val_root_mean_squared_error: 3.4814\n",
      "Epoch 95/200\n",
      "8355/8355 [==============================] - 32s 4ms/step - loss: 12.5257 - root_mean_squared_error: 3.5392 - val_loss: 12.1787 - val_root_mean_squared_error: 3.4898\n",
      "Epoch 96/200\n",
      "8355/8355 [==============================] - 32s 4ms/step - loss: 12.5512 - root_mean_squared_error: 3.5428 - val_loss: 12.1181 - val_root_mean_squared_error: 3.4811\n",
      "Epoch 97/200\n",
      "8355/8355 [==============================] - 32s 4ms/step - loss: 12.5281 - root_mean_squared_error: 3.5395 - val_loss: 12.1835 - val_root_mean_squared_error: 3.4905\n",
      "Epoch 98/200\n",
      "8355/8355 [==============================] - 31s 4ms/step - loss: 12.5423 - root_mean_squared_error: 3.5415 - val_loss: 12.1488 - val_root_mean_squared_error: 3.4855\n",
      "Epoch 99/200\n",
      "8355/8355 [==============================] - 32s 4ms/step - loss: 12.5311 - root_mean_squared_error: 3.5399 - val_loss: 12.1707 - val_root_mean_squared_error: 3.4887\n",
      "Epoch 100/200\n",
      " 999/8355 [==>...........................] - ETA: 25s - loss: 13.0261 - root_mean_squared_error: 3.6092"
     ]
    }
   ],
   "source": [
    "history = ann.fit(X_train, y_train,\n",
    "                  epochs = 200,\n",
    "                  batch_size = 512,\n",
    "                  validation_data=(X_val, y_val),\n",
    "                  callbacks=early_stop)"
   ]
  },
  {
   "cell_type": "markdown",
   "id": "7752e532",
   "metadata": {
    "heading_collapsed": true
   },
   "source": [
    "#### Loop"
   ]
  },
  {
   "cell_type": "code",
   "execution_count": null,
   "id": "4f697ed2",
   "metadata": {
    "code_folding": [],
    "hidden": true
   },
   "outputs": [],
   "source": [
    "for x in [0, 1, 2, 3, 4, 5, 6, 7, 8, 9]:\n",
    "    print(x)\n",
    "    ann = tf.keras.models.Sequential()\n",
    "    ann.add(tf.keras.layers.Dense(units=32, activation='relu'))\n",
    "    ann.add(tf.keras.layers.Dropout(rate=0.06))\n",
    "    for _ in range(5):\n",
    "        ann.add(tf.keras.layers.Dense(units=32, activation='elu'))\n",
    "        ann.add(tf.keras.layers.Dropout(rate=0.06))\n",
    "    ann.add(tf.keras.layers.Dense(units=1, activation='linear'))\n",
    "    adam = tf.keras.optimizers.Adam(learning_rate=0.0002)\n",
    "    ann.compile(optimizer = adam, loss = 'mse', metrics = tf.keras.metrics.RootMeanSquaredError())\n",
    "    \n",
    "    ann.fit(X_train, y_train,\n",
    "                  epochs = 50,\n",
    "                  batch_size = 512,\n",
    "                  validation_data=(X_val, y_val))\n",
    "    y_pred = ann.predict(X_test)\n",
    "    m = tf.keras.metrics.RootMeanSquaredError()\n",
    "    m.update_state(y_test, y_pred)\n",
    "    print(m.result().numpy())"
   ]
  },
  {
   "cell_type": "code",
   "execution_count": null,
   "id": "03286e78",
   "metadata": {
    "code_folding": [],
    "hidden": true
   },
   "outputs": [],
   "source": [
    "for x in [pp.MinMaxScaler(), pp.StandardScaler(), pp.PowerTransformer(method='yeo-johnson', standardize=True)]:\n",
    "    print(x)\n",
    "    \"\"\"\n",
    "    train2 = train_treated.copy()\n",
    "    add_quadrant(train2, 6)\n",
    "    select_cols=['abs_diff_longitude', 'abs_diff_latitude', 'distance', 'passenger_count', 'fare_amount',\n",
    "                 'year', 'month', 'week', 'hour', 'day', 'pickup_quadrant', 'dropoff_quadrant', 'distance_dropoff_A',\n",
    "                 'distance_dropoff_B', 'distance_dropoff_C', 'distance_dropoff_D', 'distance_pickup_A',\n",
    "                 'distance_pickup_B', 'distance_pickup_C', 'distance_pickup_D', 'direction_longitude',\n",
    "                 'direction_latitude', 'angle', 'night', 'late_night', 'manhatan', 'dropoff_longitude',\n",
    "                 'pickup_longitude', 'dropoff_latitude', 'pickup_latitude']\n",
    "    encode_cols=['year', 'month', 'week', 'hour', 'pickup_quadrant', 'dropoff_quadrant']\n",
    "    encode_cols_dict={'week': 'week',\n",
    "                      'hour': 'hour',\n",
    "                      'month': 'month',\n",
    "                      'year': 'year',\n",
    "                      'pickup_quadrant': 'pickup_quadrant',\n",
    "                      'dropoff_quadrant': 'dropoff_quadrant'}\n",
    "    train2 = train2[select_cols]\n",
    "    train2 = pd.get_dummies(train2, prefix=encode_cols_dict, columns=encode_cols)\n",
    "    \"\"\"\n",
    "    y_train = train2[['fare_amount']]\n",
    "    X_train = train2.drop('fare_amount', axis=1)\n",
    "    scaler = x\n",
    "    X_train = scaler.fit_transform(X_train)\n",
    "    X_train, X_test, y_train, y_test = train_test_split(\n",
    "        X_train,\n",
    "        y_train,\n",
    "        train_size=0.8,\n",
    "        random_state=42)\n",
    "    X_train, X_val, y_train, y_val = train_test_split(\n",
    "        X_train,\n",
    "        y_train,\n",
    "        train_size=0.8,\n",
    "        random_state=42)\n",
    "    ann = tf.keras.models.Sequential()\n",
    "    ann.add(tf.keras.layers.Dense(units=32, activation='relu'))\n",
    "    ann.add(tf.keras.layers.Dropout(rate=0.1))\n",
    "    for _ in range(4):\n",
    "        ann.add(tf.keras.layers.Dense(units=32, activation='elu'))\n",
    "        ann.add(tf.keras.layers.Dropout(rate=0.1))\n",
    "    ann.add(tf.keras.layers.Dense(units=1, activation='linear'))\n",
    "    adam = tf.keras.optimizers.Adam(learning_rate=0.0002)\n",
    "    ann.compile(optimizer = adam, loss = 'mse', metrics = tf.keras.metrics.RootMeanSquaredError())\n",
    "    \n",
    "    ann.fit(X_train, y_train,\n",
    "                  epochs = 50,\n",
    "                  batch_size = 512,\n",
    "                  validation_data=(X_val, y_val))\n",
    "    y_pred = ann.predict(X_test)\n",
    "    m = tf.keras.metrics.RootMeanSquaredError()\n",
    "    m.update_state(y_test, y_pred)\n",
    "    print(m.result().numpy())\n",
    "    "
   ]
  },
  {
   "cell_type": "markdown",
   "id": "4b9425b4",
   "metadata": {
    "heading_collapsed": true
   },
   "source": [
    "## Fazendo Previsões e calculando métricas"
   ]
  },
  {
   "cell_type": "code",
   "execution_count": null,
   "id": "74fa5f52",
   "metadata": {
    "hidden": true
   },
   "outputs": [],
   "source": [
    "y_pred = ann.predict(X_test)"
   ]
  },
  {
   "cell_type": "code",
   "execution_count": null,
   "id": "4bc07643",
   "metadata": {
    "hidden": true
   },
   "outputs": [],
   "source": [
    "m = tf.keras.metrics.RootMeanSquaredError()\n",
    "m.update_state(y_test, y_pred)\n",
    "m.result().numpy()"
   ]
  },
  {
   "cell_type": "markdown",
   "id": "8e8328fb",
   "metadata": {
    "hidden": true
   },
   "source": [
    "3.19"
   ]
  },
  {
   "cell_type": "markdown",
   "id": "09eea48e",
   "metadata": {},
   "source": [
    "## Analisando treino"
   ]
  },
  {
   "cell_type": "code",
   "execution_count": null,
   "id": "3b90e07a",
   "metadata": {},
   "outputs": [],
   "source": [
    "def plot_history(history):\n",
    "    \n",
    "    hist = pd.DataFrame(history.history)\n",
    "    hist['epoch'] = history.epoch\n",
    "    \n",
    "    plt.figure(figsize=(20,4))\n",
    "    plt.xlabel('Epoch')\n",
    "    plt.ylabel('Root Mean Squared Error')\n",
    "    plt.plot(\n",
    "        hist['epoch'],\n",
    "        hist['root_mean_squared_error'],\n",
    "        label='Train Error')\n",
    "    plt.plot(\n",
    "        hist['epoch'],\n",
    "        hist['val_root_mean_squared_error'],\n",
    "        label = 'Val Error')\n",
    "    plt.xlim([150,200])\n",
    "    plt.ylim([3.4,3.5])\n",
    "    plt.grid(alpha=0.25)\n",
    "    plt.legend()\n",
    "\n",
    "    plt.figure(figsize=(20,4))\n",
    "    plt.xlabel('Epoch')\n",
    "    plt.ylabel('Loss (mse)')\n",
    "    plt.plot(\n",
    "        hist['epoch'],\n",
    "        hist['loss'],\n",
    "        label='Train Loss')\n",
    "    plt.plot(\n",
    "        hist['epoch'],\n",
    "        hist['val_loss'],\n",
    "        label = 'Val Loss')\n",
    "    #plt.ylim([20,30])\n",
    "    plt.legend()\n",
    "    plt.grid(alpha=0.25)\n",
    "    plt.show()"
   ]
  },
  {
   "cell_type": "code",
   "execution_count": null,
   "id": "0475f153",
   "metadata": {},
   "outputs": [],
   "source": [
    "plot_history(history)"
   ]
  },
  {
   "cell_type": "markdown",
   "id": "62528621",
   "metadata": {},
   "source": [
    "## Base de teste"
   ]
  },
  {
   "cell_type": "code",
   "execution_count": null,
   "id": "5d9240ba",
   "metadata": {},
   "outputs": [],
   "source": [
    "test = pd.read_parquet('test.parquet')"
   ]
  },
  {
   "cell_type": "code",
   "execution_count": null,
   "id": "e938e6c4",
   "metadata": {},
   "outputs": [],
   "source": [
    "datatypes = {'key': 'str', \n",
    "              'pickup_datetime': 'str', \n",
    "              'pickup_longitude': 'float32',\n",
    "              'pickup_latitude': 'float32',\n",
    "              'dropoff_longitude': 'float32',\n",
    "              'dropoff_latitude': 'float32',\n",
    "              'passenger_count': 'uint8'}"
   ]
  },
  {
   "cell_type": "code",
   "execution_count": null,
   "id": "af98fb42",
   "metadata": {},
   "outputs": [],
   "source": [
    "test = test.astype(dtype = datatypes)"
   ]
  },
  {
   "cell_type": "code",
   "execution_count": null,
   "id": "c460436b",
   "metadata": {},
   "outputs": [],
   "source": [
    "test['base'] = 'test'\n",
    "test = pd.concat([test, train])"
   ]
  },
  {
   "cell_type": "code",
   "execution_count": null,
   "id": "20f089ad",
   "metadata": {},
   "outputs": [],
   "source": [
    "test = test.set_index('key')"
   ]
  },
  {
   "cell_type": "code",
   "execution_count": null,
   "id": "d10d7798",
   "metadata": {},
   "outputs": [],
   "source": [
    "add_travel_vector_features(test)\n",
    "print(\"===\")\n",
    "test['pickup_datetime'] = pd.to_datetime(test['pickup_datetime'])\n",
    "add_time_variables(test)\n",
    "print(\"===\")\n",
    "late_night(test)\n",
    "night(test)\n",
    "print(\"===\")\n",
    "add_haversine_distance(test)\n",
    "print(\"===\")\n",
    "add_manhatan_distance(test)\n",
    "print(\"===\")\n",
    "add_quadrant(test, 6)\n",
    "print(\"===\")\n",
    "add_direction(test)\n",
    "print(\"===\")\n",
    "add_special_location(test)"
   ]
  },
  {
   "cell_type": "code",
   "execution_count": null,
   "id": "b3389f77",
   "metadata": {
    "code_folding": []
   },
   "outputs": [],
   "source": [
    "select_cols=['abs_diff_longitude', 'abs_diff_latitude', 'distance', 'passenger_count',\n",
    "             'year', 'month', 'week', 'hour', 'day', 'pickup_quadrant', 'dropoff_quadrant', 'distance_dropoff_A',\n",
    "             'distance_dropoff_B', 'distance_dropoff_C', 'distance_dropoff_D', 'distance_pickup_A',\n",
    "             'distance_pickup_B', 'distance_pickup_C', 'distance_pickup_D', 'direction_longitude',\n",
    "             'direction_latitude', 'angle', 'night', 'late_night', 'manhatan', 'base', 'dropoff_longitude',\n",
    "             'pickup_longitude', 'dropoff_latitude', 'pickup_latitude', 'quadrant_distance',\n",
    "             'pickup_quadrant_lat', 'pickup_quadrant_lon',\n",
    "             'dropoff_quadrant_lat', 'dropoff_quadrant_lon',]\n",
    "encode_cols=['year', 'month', 'week', 'hour', 'pickup_quadrant', 'dropoff_quadrant']\n",
    "encode_cols_dict={'week': 'week',\n",
    "                  'hour': 'hour',\n",
    "                  'month': 'month',\n",
    "                  'year': 'year',\n",
    "                  'pickup_quadrant': 'pickup_quadrant',\n",
    "                  'dropoff_quadrant': 'dropoff_quadrant'}\n",
    "test = test[select_cols]\n",
    "test = pd.get_dummies(test, prefix=encode_cols_dict, columns=encode_cols)"
   ]
  },
  {
   "cell_type": "code",
   "execution_count": null,
   "id": "4c606d93",
   "metadata": {},
   "outputs": [],
   "source": [
    "test = test[test['base']=='test'].drop('base', axis=1)\n",
    "drop_cols = [c for c in test.columns if c not in train_treated.columns]\n",
    "print(drop_cols)\n",
    "for col in drop_cols:\n",
    "    test = test.drop(col, axis=1)"
   ]
  },
  {
   "cell_type": "code",
   "execution_count": null,
   "id": "d69bfccf",
   "metadata": {},
   "outputs": [],
   "source": [
    "key = test.reset_index().key"
   ]
  },
  {
   "cell_type": "code",
   "execution_count": null,
   "id": "4278f901",
   "metadata": {},
   "outputs": [],
   "source": [
    "test = scaler.transform(test)"
   ]
  },
  {
   "cell_type": "code",
   "execution_count": null,
   "id": "70e3c10a",
   "metadata": {},
   "outputs": [],
   "source": [
    "y_pred = ann.predict(test)"
   ]
  },
  {
   "cell_type": "code",
   "execution_count": null,
   "id": "ff05111c",
   "metadata": {},
   "outputs": [],
   "source": [
    "y_pred = y_pred[:,0]"
   ]
  },
  {
   "cell_type": "code",
   "execution_count": null,
   "id": "e8e4650e",
   "metadata": {},
   "outputs": [],
   "source": [
    "submission = pd.DataFrame(\n",
    "    {'key': key, 'fare_amount': y_pred},\n",
    "    columns = ['key', 'fare_amount'])\n",
    "submission.to_csv('submission.csv', index = False)"
   ]
  },
  {
   "cell_type": "code",
   "execution_count": null,
   "id": "bf9252ce",
   "metadata": {},
   "outputs": [],
   "source": [
    "y_pred"
   ]
  },
  {
   "cell_type": "code",
   "execution_count": null,
   "id": "84601eae",
   "metadata": {},
   "outputs": [],
   "source": []
  }
 ],
 "metadata": {
  "kernelspec": {
   "display_name": "Python 3",
   "language": "python",
   "name": "python3"
  },
  "language_info": {
   "codemirror_mode": {
    "name": "ipython",
    "version": 3
   },
   "file_extension": ".py",
   "mimetype": "text/x-python",
   "name": "python",
   "nbconvert_exporter": "python",
   "pygments_lexer": "ipython3",
   "version": "3.8.5"
  }
 },
 "nbformat": 4,
 "nbformat_minor": 5
}
